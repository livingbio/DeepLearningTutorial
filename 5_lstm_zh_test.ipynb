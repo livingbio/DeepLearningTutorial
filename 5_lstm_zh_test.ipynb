{
 "cells": [
  {
   "cell_type": "code",
   "execution_count": 1,
   "metadata": {
    "collapsed": true
   },
   "outputs": [],
   "source": [
    "import tensorflow as tf\n",
    "import numpy as np\n",
    "from collections import Counter"
   ]
  },
  {
   "cell_type": "code",
   "execution_count": 2,
   "metadata": {
    "collapsed": false
   },
   "outputs": [],
   "source": [
    "def load_text_to_id(filename):\n",
    "    with open(filename) as f:\n",
    "        text = f.read().decode('utf8').replace(u'　', '').replace(u'\\n', '')\n",
    "        words = list(text)\n",
    "    vocab = ['<unk>'] + sorted(list(set(words)))\n",
    "    vocab = dict(zip(vocab, range(len(vocab))))\n",
    "    word_ids = [vocab[w] if w in vocab else 0 for w in words]\n",
    "    inv_vocab = np.array([x[1] for x in sorted(zip(vocab.values(), vocab.keys()))])\n",
    "    assert len(vocab) == len(inv_vocab)\n",
    "    return word_ids, vocab, inv_vocab\n",
    "\n",
    "word_ids, vocab, inv_vocab = load_text_to_id('raw_novel.txt')"
   ]
  },
  {
   "cell_type": "code",
   "execution_count": 3,
   "metadata": {
    "collapsed": true
   },
   "outputs": [],
   "source": [
    "def get_model(scope_name, n_steps, dim_input, dim_hidden, batch_size, vocab_size, n_layer=1):\n",
    "    g = tf.Graph()\n",
    "    with g.as_default():\n",
    "        input_data = tf.placeholder('int32', [batch_size, n_steps])\n",
    "        targets = tf.placeholder('int32', [batch_size, n_steps])\n",
    "        p_keep = tf.placeholder_with_default(tf.constant(1.0), [])\n",
    "        xavier = tf.contrib.layers.xavier_initializer()\n",
    "\n",
    "        with tf.variable_scope(scope_name) as scope:\n",
    "            with tf.device(\"/cpu:0\"):\n",
    "                try:\n",
    "                    embedding = tf.get_variable('embedding', [vocab_size, dim_input], initializer=xavier)\n",
    "                except ValueError:\n",
    "                    scope.reuse_variables()\n",
    "                    embedding = tf.get_variable('embedding', [vocab_size, dim_input], initializer=xavier)\n",
    "                inputs = tf.nn.embedding_lookup(embedding, input_data)\n",
    "                inputs = [tf.squeeze(input_, [1]) for input_ in tf.split(1, n_steps, inputs)]\n",
    "\n",
    "            with tf.device('/gpu:0'):\n",
    "                cell = tf.nn.rnn_cell.GRUCell(dim_hidden)\n",
    "                cell = tf.nn.rnn_cell.DropoutWrapper(cell, output_keep_prob=p_keep)\n",
    "                cell = tf.nn.rnn_cell.MultiRNNCell([cell] * n_layer)\n",
    "                initial_state = cell.zero_state(batch_size, 'float32')\n",
    "\n",
    "            outputs, state = tf.nn.rnn(cell, inputs, initial_state=initial_state)\n",
    "            output = tf.reshape(tf.concat(1, outputs), [-1, dim_hidden])\n",
    "            with tf.device('/gpu:0'):\n",
    "                Wy = tf.get_variable('Wy', [dim_hidden, vocab_size], initializer=xavier)\n",
    "                by = tf.get_variable('by', [vocab_size], initializer=xavier)\n",
    "                logits = tf.matmul(output, Wy) + by\n",
    "                probs = tf.nn.softmax(logits)\n",
    "                loss = tf.nn.seq2seq.sequence_loss_by_example(\n",
    "                    [logits], [tf.reshape(targets, [-1])],\n",
    "                    [tf.ones([batch_size * n_steps], dtype='float32')], vocab_size)\n",
    "                cost = tf.reduce_sum(loss) / batch_size / n_steps\n",
    "                final_state = state\n",
    "                train_op = tf.train.RMSPropOptimizer(0.001, 0.9).minimize(cost)\n",
    "\n",
    "    return {'train': train_op, 'final_state': final_state, 'cost': cost,\n",
    "            'logits': logits, 'input': input_data, 'target': targets,\n",
    "            'init_state': initial_state, 'cell': cell, 'p_keep': p_keep,\n",
    "            'embedding': embedding, 'probs': probs, 'graph': g}"
   ]
  },
  {
   "cell_type": "code",
   "execution_count": 4,
   "metadata": {
    "collapsed": false
   },
   "outputs": [],
   "source": [
    "def predict_by_max(prefix, max_len=120):\n",
    "    model = get_model('default', 1, 50, 100, 1, vocab_size=len(vocab))\n",
    "    sent = list(prefix)\n",
    "    with model['graph'].as_default():\n",
    "        with tf.Session() as sess:\n",
    "            tf.global_variables_initializer().run()\n",
    "            saver = tf.train.Saver(tf.global_variables())\n",
    "            saver.restore(sess, './lstm_zh.checkpoint')\n",
    "\n",
    "            state = sess.run(model['cell'].zero_state(1, tf.float32))\n",
    "            init_state = model['init_state']\n",
    "            final_state = model['final_state']\n",
    "            probs = model['probs']\n",
    "            logits = model['logits']\n",
    "            X = model['input']\n",
    "            for w in list(prefix):\n",
    "                x = np.array([[vocab[w]]]) if w in vocab else np.array([[0]])\n",
    "                p, state = sess.run([probs, final_state], feed_dict={X: x, init_state: state})\n",
    "            word = inv_vocab[np.argmax(p)]\n",
    "            sent.append(word)\n",
    "\n",
    "            for _ in range(max_len):\n",
    "                x = np.array([[vocab[word]]])\n",
    "                p, state = sess.run([probs, final_state], feed_dict={X: x, init_state: state})\n",
    "                # ---------------------------------------------\n",
    "                word = inv_vocab[np.argmax(p[0])]\n",
    "                # ---------------------------------------------\n",
    "                sent.append(word)\n",
    "            return ''.join(sent)"
   ]
  },
  {
   "cell_type": "code",
   "execution_count": 5,
   "metadata": {
    "collapsed": true
   },
   "outputs": [],
   "source": [
    "def predict_by_sample(prefix, max_len=120):\n",
    "    model = get_model('default', 1, 50, 100, 1, vocab_size=len(vocab))\n",
    "    sent = list(prefix)\n",
    "    with model['graph'].as_default():\n",
    "        with tf.Session() as sess:\n",
    "            tf.global_variables_initializer().run()\n",
    "            saver = tf.train.Saver(tf.global_variables())\n",
    "            saver.restore(sess, './lstm_zh.checkpoint')\n",
    "\n",
    "            state = sess.run(model['cell'].zero_state(1, tf.float32))\n",
    "            init_state = model['init_state']\n",
    "            final_state = model['final_state']\n",
    "            probs = model['probs']\n",
    "            logits = model['logits']\n",
    "            X = model['input']\n",
    "            for w in list(prefix):\n",
    "                x = np.array([[vocab[w]]]) if w in vocab else np.array([[0]])\n",
    "                p, state = sess.run([probs, final_state], feed_dict={X: x, init_state: state})\n",
    "            word = inv_vocab[np.argmax(p)]\n",
    "            sent.append(word)\n",
    "\n",
    "            for _ in range(max_len):\n",
    "                x = np.array([[vocab[word]]])\n",
    "                p, state = sess.run([probs, final_state], feed_dict={X: x, init_state: state})\n",
    "                # ---------------------------------------------\n",
    "                word = np.random.choice(inv_vocab, p=p[0])\n",
    "                # ---------------------------------------------\n",
    "                sent.append(word)\n",
    "            return ''.join(sent)"
   ]
  },
  {
   "cell_type": "code",
   "execution_count": 6,
   "metadata": {
    "collapsed": false
   },
   "outputs": [
    {
     "name": "stdout",
     "output_type": "stream",
     "text": [
      "身為一個程式設計師，在我的姐姐，我們就在我的姐姐，我知道，我們就在我的姐姐，」我說：「你要你的姐姐！」我說：「你要你的姐姐！」我說：「你要你的姐姐！」我說：「你要你的姐姐！」我說：「你要你的姐姐！」我說：「你要你的姐姐！」我說：「你要你的姐姐！」我說：「你要你的\n"
     ]
    }
   ],
   "source": [
    "print predict_by_max(u'身為一個程式設計師，')"
   ]
  },
  {
   "cell_type": "code",
   "execution_count": 7,
   "metadata": {
    "collapsed": false
   },
   "outputs": [
    {
     "name": "stdout",
     "output_type": "stream",
     "text": [
      "身為一個程式設計師，在這法握下著頓：「那麼，楚濂陶劍波，陶劍波呢？這份關愁楚份，一些吃很。才，怎樣？」我問：「我很好說！」母親直奔進身向忽然一句搖頭。「不上考去，我愛十忍著費雲帆被費雲帆粉房門，我走著嘴：「別是放生的酒，這種信爸爸。你並在「我干什麼辦？幾句不再放\n"
     ]
    }
   ],
   "source": [
    "print predict_by_sample(u'身為一個程式設計師，')"
   ]
  },
  {
   "cell_type": "markdown",
   "metadata": {
    "collapsed": true
   },
   "source": [
    "## Beam Search"
   ]
  },
  {
   "cell_type": "code",
   "execution_count": 8,
   "metadata": {
    "collapsed": false
   },
   "outputs": [],
   "source": [
    "def predict_by_beam(prefix, beam_size=8, max_len=120):\n",
    "    model = get_model('default', 1, 50, 100, 1, vocab_size=len(vocab))\n",
    "    last_sent = ''\n",
    "    with model['graph'].as_default():\n",
    "        with tf.Session() as sess:\n",
    "            tf.global_variables_initializer().run()\n",
    "            saver = tf.train.Saver(tf.global_variables())\n",
    "            saver.restore(sess, './lstm_zh.checkpoint')\n",
    "\n",
    "            state = sess.run(model['cell'].zero_state(1, tf.float32))\n",
    "            init_state = model['init_state']\n",
    "            final_state = model['final_state']\n",
    "            probs = model['probs']\n",
    "            logits = model['logits']\n",
    "            X = model['input']\n",
    "            for w in prefix[:-1]:\n",
    "                x = np.array([[vocab[w]]]) if w in vocab else np.array([[0]])\n",
    "                p, state = sess.run([probs, final_state], feed_dict={X: x, init_state: state})\n",
    "            beam = [(0.0, state, prefix)]\n",
    "            \n",
    "            while len(beam[0][2]) < max_len:\n",
    "                new_beam = []\n",
    "                for score, state, sent in beam:\n",
    "                    x = np.array([[vocab[sent[-1]]]]) if sent[-1] in vocab else np.array([[0]])\n",
    "                    p, state = sess.run([probs, final_state], feed_dict={X: x, init_state: state})\n",
    "                    top_words = inv_vocab[np.argsort(p[0])[::-1][:beam_size]]\n",
    "                    top_prob = np.sort(p[0])[::-1][:beam_size]\n",
    "                    for w, p in zip(top_words, top_prob):\n",
    "                        if w in sent:\n",
    "                            new_beam.append((score + np.log(p) * 2, state, sent + w))\n",
    "                        else:\n",
    "                            new_beam.append((score + np.log(p), state, sent + w))\n",
    "                for i in range(len(new_beam))[::-1]:\n",
    "                    if new_beam[i][2][-1] in u'。？！」':\n",
    "                        last_sent = new_beam.pop(i)[2]\n",
    "                beam = sorted(new_beam)[::-1][:beam_size]\n",
    "            return beam[0][2]"
   ]
  },
  {
   "cell_type": "code",
   "execution_count": 9,
   "metadata": {
    "collapsed": false
   },
   "outputs": [
    {
     "name": "stdout",
     "output_type": "stream",
     "text": [
      "身為一個程式設計師，和綠萍的姐姐，我不知道什麼地方去，你還有辦法，但是，我看到楚濂，他們又開始默默的說：「紫菱，這些年來，我在做什麼，我也沒有幾句話吧，你確實以為她彈吉他，爸爸……天哪，我就可能的故事，讓我聽著那珠簾幽夢的時候，你要進去了，\n"
     ]
    }
   ],
   "source": [
    "print predict_by_beam(u'身為一個程式設計師，', 8)"
   ]
  },
  {
   "cell_type": "code",
   "execution_count": null,
   "metadata": {
    "collapsed": true
   },
   "outputs": [],
   "source": []
  }
 ],
 "metadata": {
  "kernelspec": {
   "display_name": "Python 2",
   "language": "python",
   "name": "python2"
  },
  "language_info": {
   "codemirror_mode": {
    "name": "ipython",
    "version": 2
   },
   "file_extension": ".py",
   "mimetype": "text/x-python",
   "name": "python",
   "nbconvert_exporter": "python",
   "pygments_lexer": "ipython2",
   "version": "2.7.12"
  }
 },
 "nbformat": 4,
 "nbformat_minor": 2
}
