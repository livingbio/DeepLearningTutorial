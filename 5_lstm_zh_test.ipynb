{
 "cells": [
  {
   "cell_type": "code",
   "execution_count": 1,
   "metadata": {
    "collapsed": true
   },
   "outputs": [],
   "source": [
    "import tensorflow as tf\n",
    "import numpy as np"
   ]
  },
  {
   "cell_type": "code",
   "execution_count": 2,
   "metadata": {
    "collapsed": false
   },
   "outputs": [],
   "source": [
    "def load_text_to_id(filename):\n",
    "    with open(filename) as f:\n",
    "        text = f.read().decode('utf8').replace(u'　', '').replace(u'\\n', '')\n",
    "        words = list(text)\n",
    "    vocab = ['<unk>'] + sorted(list(set(words)))\n",
    "    vocab = dict(zip(vocab, range(len(vocab))))\n",
    "    word_ids = [vocab[w] if w in vocab else 0 for w in words]\n",
    "    inv_vocab = np.array([x[1] for x in sorted(zip(vocab.values(), vocab.keys()))])\n",
    "    assert len(vocab) == len(inv_vocab)\n",
    "    return word_ids, vocab, inv_vocab\n",
    "\n",
    "word_ids, vocab, inv_vocab = load_text_to_id('raw_novel.txt')"
   ]
  },
  {
   "cell_type": "code",
   "execution_count": 3,
   "metadata": {
    "collapsed": true
   },
   "outputs": [],
   "source": [
    "def get_model(scope_name, n_steps, dim_input, dim_hidden, batch_size, vocab_size, n_layer=1):\n",
    "    input_data = tf.placeholder('int32', [batch_size, n_steps])\n",
    "    targets = tf.placeholder('int32', [batch_size, n_steps])\n",
    "    p_keep = tf.placeholder_with_default(tf.constant(1.0), [])\n",
    "\n",
    "    with tf.variable_scope(scope_name) as scope:\n",
    "        with tf.device(\"/cpu:0\"):\n",
    "            try:\n",
    "                embedding = tf.get_variable('embedding', [vocab_size, dim_hidden],\n",
    "                    initializer=tf.contrib.layers.xavier_initializer())\n",
    "            except ValueError:\n",
    "                scope.reuse_variables()\n",
    "                embedding = tf.get_variable('embedding', [vocab_size, dim_hidden],\n",
    "                                            initializer=tf.contrib.layers.xavier_initializer())\n",
    "            inputs = tf.nn.embedding_lookup(embedding, input_data)\n",
    "            inputs = [tf.squeeze(input_, [1]) for input_ in tf.split(1, n_steps, inputs)]\n",
    "\n",
    "        with tf.device('/gpu:0'):\n",
    "            cell = tf.nn.rnn_cell.GRUCell(dim_hidden)\n",
    "            cell = tf.nn.rnn_cell.DropoutWrapper(cell, p_keep, p_keep)\n",
    "            cell = tf.nn.rnn_cell.MultiRNNCell([cell] * n_layer)\n",
    "            initial_state = cell.zero_state(batch_size, 'float32')\n",
    "\n",
    "        outputs, state = tf.nn.rnn(cell, inputs, initial_state=initial_state)\n",
    "        output = tf.reshape(tf.concat(1, outputs), [-1, dim_hidden])\n",
    "        with tf.device('/gpu:0'):\n",
    "            Wy = tf.get_variable('Wy', [dim_hidden, vocab_size],\n",
    "                                 initializer=tf.contrib.layers.xavier_initializer())\n",
    "            by = tf.get_variable('by', [vocab_size],\n",
    "                                 initializer=tf.contrib.layers.xavier_initializer())\n",
    "            logits = tf.matmul(output, Wy) + by\n",
    "            probs = tf.nn.softmax(logits)\n",
    "            loss = tf.nn.seq2seq.sequence_loss_by_example(\n",
    "                [logits], [tf.reshape(targets, [-1])],\n",
    "                [tf.ones([batch_size * n_steps], dtype='float32')], vocab_size)\n",
    "            cost = tf.reduce_sum(loss) / batch_size / n_steps\n",
    "            final_state = state\n",
    "            train_op = tf.train.RMSPropOptimizer(0.001, 0.9).minimize(cost)\n",
    "\n",
    "    return {'train': train_op, 'final_state': final_state, 'cost': cost,\n",
    "            'logits': logits, 'input': input_data, 'target': targets,\n",
    "            'init_state': initial_state, 'cell': cell, 'p_keep': p_keep,\n",
    "            'embedding': embedding, 'probs': probs}"
   ]
  },
  {
   "cell_type": "code",
   "execution_count": 4,
   "metadata": {
    "collapsed": false,
    "scrolled": false
   },
   "outputs": [],
   "source": [
    "model = get_model('default', 1, 15, 30, 1, vocab_size=len(vocab))"
   ]
  },
  {
   "cell_type": "code",
   "execution_count": 21,
   "metadata": {
    "collapsed": true
   },
   "outputs": [],
   "source": [
    "prime = u'集雅科技的主要成員在資料科學、雲端運算、人工智慧等領域都各有專精，'"
   ]
  },
  {
   "cell_type": "code",
   "execution_count": 36,
   "metadata": {
    "collapsed": false,
    "scrolled": false
   },
   "outputs": [
    {
     "name": "stdout",
     "output_type": "stream",
     "text": [
      "我像坊演門口，我看到他們個眼模人的吉他。\n"
     ]
    }
   ],
   "source": [
    "sent = []  # prime.split()\n",
    "with tf.Session() as sess:\n",
    "    tf.global_variables_initializer().run()\n",
    "    saver = tf.train.Saver(tf.global_variables())\n",
    "    saver.restore(sess, './lstm_zh.checkpoint')\n",
    "    \n",
    "    state = sess.run(model['cell'].zero_state(1, tf.float32))\n",
    "    init_state = model['init_state']\n",
    "    final_state = model['final_state']\n",
    "    probs = model['probs']\n",
    "    logits = model['logits']\n",
    "    X = model['input']\n",
    "    for w in list(prime):\n",
    "        x = np.array([[vocab[w]]]) if w in vocab else np.array([[0]])\n",
    "        p, state = sess.run([probs, final_state], feed_dict={X: x, init_state: state})\n",
    "    word = inv_vocab[np.argmax(p)]\n",
    "    sent.append(word)\n",
    "    \n",
    "    for _ in range(120):\n",
    "        x = np.array([[vocab[word]]])\n",
    "        p, state = sess.run([probs, final_state], feed_dict={X: x, init_state: state})\n",
    "        word = np.random.choice(inv_vocab, p=p[0])\n",
    "        # word = inv_vocab[np.argmax(p[0])]\n",
    "        sent.append(word)\n",
    "        if word in u'。？！」':\n",
    "            break\n",
    "    print ''.join(sent)"
   ]
  },
  {
   "cell_type": "code",
   "execution_count": null,
   "metadata": {
    "collapsed": true
   },
   "outputs": [],
   "source": []
  }
 ],
 "metadata": {
  "kernelspec": {
   "display_name": "Python 2",
   "language": "python",
   "name": "python2"
  },
  "language_info": {
   "codemirror_mode": {
    "name": "ipython",
    "version": 2
   },
   "file_extension": ".py",
   "mimetype": "text/x-python",
   "name": "python",
   "nbconvert_exporter": "python",
   "pygments_lexer": "ipython2",
   "version": "2.7.12"
  }
 },
 "nbformat": 4,
 "nbformat_minor": 2
}
