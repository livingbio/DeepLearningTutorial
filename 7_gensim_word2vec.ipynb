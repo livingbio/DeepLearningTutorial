{
 "cells": [
  {
   "cell_type": "code",
   "execution_count": 2,
   "metadata": {
    "collapsed": true
   },
   "outputs": [],
   "source": [
    "from gensim.models.word2vec import Word2Vec, LineSentence"
   ]
  },
  {
   "cell_type": "code",
   "execution_count": 3,
   "metadata": {
    "collapsed": true
   },
   "outputs": [],
   "source": [
    "sentences = LineSentence('raw_sentences.txt')"
   ]
  },
  {
   "cell_type": "code",
   "execution_count": 8,
   "metadata": {
    "collapsed": false
   },
   "outputs": [
    {
     "name": "stdout",
     "output_type": "stream",
     "text": [
      "\n"
     ]
    }
   ],
   "source": [
    "model1 = Word2Vec(sentences, size=50)"
   ]
  },
  {
   "cell_type": "code",
   "execution_count": 13,
   "metadata": {
    "collapsed": false
   },
   "outputs": [
    {
     "data": {
      "text/plain": [
       "[(u'house', 0.8833447098731995),\n",
       " (u'country', 0.8107045292854309),\n",
       " (u'court', 0.7893393039703369),\n",
       " (u'center', 0.7738925814628601),\n",
       " (u'city', 0.7596331238746643),\n",
       " (u'world', 0.7521129250526428),\n",
       " (u'state', 0.7515256404876709),\n",
       " (u'program', 0.7458690404891968),\n",
       " (u'university', 0.7380647659301758),\n",
       " (u'company', 0.7276094555854797)]"
      ]
     },
     "execution_count": 13,
     "metadata": {},
     "output_type": "execute_result"
    }
   ],
   "source": [
    "model1.most_similar('office')"
   ]
  },
  {
   "cell_type": "code",
   "execution_count": 14,
   "metadata": {
    "collapsed": true
   },
   "outputs": [],
   "source": [
    "model2 = Word2Vec(sentences, size=50, sg=1)"
   ]
  },
  {
   "cell_type": "code",
   "execution_count": 16,
   "metadata": {
    "collapsed": false
   },
   "outputs": [
    {
     "data": {
      "text/plain": [
       "[(u'department', 0.695691704750061),\n",
       " (u'center', 0.6571096777915955),\n",
       " (u'school', 0.6549991369247437),\n",
       " (u'house', 0.6467015743255615),\n",
       " (u'court', 0.6380655169487),\n",
       " (u'Back', 0.623505175113678),\n",
       " (u'Being', 0.6232806444168091),\n",
       " (u'Way', 0.6179025769233704),\n",
       " (u'home', 0.6176445484161377),\n",
       " (u'street', 0.6160960793495178)]"
      ]
     },
     "execution_count": 16,
     "metadata": {},
     "output_type": "execute_result"
    }
   ],
   "source": [
    "model2.most_similar('office')"
   ]
  },
  {
   "cell_type": "code",
   "execution_count": null,
   "metadata": {
    "collapsed": true
   },
   "outputs": [],
   "source": []
  }
 ],
 "metadata": {
  "kernelspec": {
   "display_name": "Python 2",
   "language": "python",
   "name": "python2"
  },
  "language_info": {
   "codemirror_mode": {
    "name": "ipython",
    "version": 2
   },
   "file_extension": ".py",
   "mimetype": "text/x-python",
   "name": "python",
   "nbconvert_exporter": "python",
   "pygments_lexer": "ipython2",
   "version": "2.7.12"
  }
 },
 "nbformat": 4,
 "nbformat_minor": 2
}
