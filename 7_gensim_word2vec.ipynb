{
 "cells": [
  {
   "cell_type": "code",
   "execution_count": 1,
   "metadata": {
    "collapsed": false
   },
   "outputs": [],
   "source": [
    "from gensim.models.word2vec import Word2Vec, LineSentence"
   ]
  },
  {
   "cell_type": "code",
   "execution_count": 12,
   "metadata": {
    "collapsed": true
   },
   "outputs": [],
   "source": [
    "with open('raw_sentences.txt') as f:\n",
    "    sentences = f.read().replace(' nt', '\\'nt').lower().split('\\n')\n",
    "    sentences = [[w for w in s.split() if w] for s in sentences]"
   ]
  },
  {
   "cell_type": "code",
   "execution_count": 25,
   "metadata": {
    "collapsed": false
   },
   "outputs": [],
   "source": [
    "model1 = Word2Vec(sentences, size=10, sg=0)"
   ]
  },
  {
   "cell_type": "code",
   "execution_count": 26,
   "metadata": {
    "collapsed": false
   },
   "outputs": [
    {
     "data": {
      "text/plain": [
       "[('house', 0.9626596570014954),\n",
       " ('place', 0.923339307308197),\n",
       " ('country', 0.90215003490448),\n",
       " ('life', 0.892638087272644),\n",
       " ('family', 0.8829098343849182),\n",
       " ('center', 0.8783548474311829),\n",
       " ('group', 0.875221848487854),\n",
       " ('street', 0.8721980452537537),\n",
       " ('market', 0.8613870143890381),\n",
       " ('world', 0.8579932451248169)]"
      ]
     },
     "execution_count": 26,
     "metadata": {},
     "output_type": "execute_result"
    }
   ],
   "source": [
    "model1.most_similar('office')"
   ]
  },
  {
   "cell_type": "code",
   "execution_count": 27,
   "metadata": {
    "collapsed": false
   },
   "outputs": [
    {
     "data": {
      "text/plain": [
       "[('he', 0.976589560508728),\n",
       " ('john', 0.7674155235290527),\n",
       " ('yesterday', 0.7251682281494141),\n",
       " (',', 0.5821101665496826),\n",
       " ('it', 0.5811744928359985),\n",
       " ('that', 0.5520286560058594),\n",
       " ('i', 0.5485138893127441),\n",
       " ('never', 0.5475437641143799),\n",
       " ('today', 0.5467222929000854),\n",
       " ('well', 0.5463508367538452)]"
      ]
     },
     "execution_count": 27,
     "metadata": {},
     "output_type": "execute_result"
    }
   ],
   "source": [
    "model1.most_similar('she')"
   ]
  },
  {
   "cell_type": "code",
   "execution_count": 28,
   "metadata": {
    "collapsed": true
   },
   "outputs": [],
   "source": [
    "model2 = Word2Vec(sentences, size=10, sg=1)"
   ]
  },
  {
   "cell_type": "code",
   "execution_count": 29,
   "metadata": {
    "collapsed": false,
    "scrolled": false
   },
   "outputs": [
    {
     "data": {
      "text/plain": [
       "[('house', 0.9207733869552612),\n",
       " ('department', 0.9064741730690002),\n",
       " ('place', 0.9029653072357178),\n",
       " ('school', 0.8749574422836304),\n",
       " ('home', 0.824079155921936),\n",
       " ('court', 0.8229866027832031),\n",
       " ('police', 0.8189059495925903),\n",
       " ('street', 0.8169476985931396),\n",
       " ('first', 0.8055035471916199),\n",
       " ('second', 0.788737416267395)]"
      ]
     },
     "execution_count": 29,
     "metadata": {},
     "output_type": "execute_result"
    }
   ],
   "source": [
    "model2.most_similar('office')"
   ]
  },
  {
   "cell_type": "code",
   "execution_count": 30,
   "metadata": {
    "collapsed": false
   },
   "outputs": [
    {
     "data": {
      "text/plain": [
       "[('he', 0.9823122024536133),\n",
       " ('john', 0.8947937488555908),\n",
       " (',', 0.8766258955001831),\n",
       " ('said', 0.7983852624893188),\n",
       " (':', 0.7932201623916626),\n",
       " ('no', 0.7860295176506042),\n",
       " ('never', 0.785761833190918),\n",
       " ('says', 0.7776951789855957),\n",
       " ('though', 0.7430188655853271),\n",
       " ('me', 0.7348868250846863)]"
      ]
     },
     "execution_count": 30,
     "metadata": {},
     "output_type": "execute_result"
    }
   ],
   "source": [
    "model2.most_similar('she')"
   ]
  },
  {
   "cell_type": "code",
   "execution_count": null,
   "metadata": {
    "collapsed": true
   },
   "outputs": [],
   "source": []
  }
 ],
 "metadata": {
  "kernelspec": {
   "display_name": "Python 2",
   "language": "python",
   "name": "python2"
  },
  "language_info": {
   "codemirror_mode": {
    "name": "ipython",
    "version": 2
   },
   "file_extension": ".py",
   "mimetype": "text/x-python",
   "name": "python",
   "nbconvert_exporter": "python",
   "pygments_lexer": "ipython2",
   "version": "2.7.12"
  }
 },
 "nbformat": 4,
 "nbformat_minor": 2
}
