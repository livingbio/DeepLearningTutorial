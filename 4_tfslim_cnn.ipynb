{
 "cells": [
  {
   "cell_type": "markdown",
   "metadata": {},
   "source": [
    "# Build CNN with TF-Slim"
   ]
  },
  {
   "cell_type": "code",
   "execution_count": 1,
   "metadata": {
    "collapsed": false,
    "scrolled": true
   },
   "outputs": [
    {
     "name": "stdout",
     "output_type": "stream",
     "text": [
      "('Extracting', 'MNIST_data/train-images-idx3-ubyte.gz')\n",
      "('Extracting', 'MNIST_data/train-labels-idx1-ubyte.gz')\n",
      "('Extracting', 'MNIST_data/t10k-images-idx3-ubyte.gz')\n",
      "('Extracting', 'MNIST_data/t10k-labels-idx1-ubyte.gz')\n"
     ]
    },
    {
     "name": "stderr",
     "output_type": "stream",
     "text": [
      "/usr/local/lib/python2.7.12/lib/python2.7/gzip.py:275: VisibleDeprecationWarning: converting an array with ndim > 0 to an index will result in an error in the future\n",
      "  chunk = self.extrabuf[offset: offset + size]\n",
      "mnist.py:42: VisibleDeprecationWarning: converting an array with ndim > 0 to an index will result in an error in the future\n",
      "  data = data.reshape(num_images, rows, cols, 1)\n"
     ]
    }
   ],
   "source": [
    "import tensorflow as tf\n",
    "import mnist\n",
    "mn = mnist.read_data_sets(\"MNIST_data/\", one_hot=True)\n",
    "trX, trY, teX, teY = mn.train.images, mn.train.labels, mn.test.images, mn.test.labels"
   ]
  },
  {
   "cell_type": "code",
   "execution_count": 2,
   "metadata": {
    "collapsed": false
   },
   "outputs": [],
   "source": [
    "import numpy as np\n",
    "from matplotlib import pyplot as plt\n",
    "%matplotlib inline\n",
    "from pylab import rcParams\n",
    "rcParams['figure.figsize'] = 8, 8\n",
    "rcParams['font.size'] = 20\n",
    "plt.style.use('ggplot')\n",
    "#plt.imshow(np.array(trX[0]*256, dtype=np.uint8).reshape((28, 28)), cmap='gray')"
   ]
  },
  {
   "cell_type": "code",
   "execution_count": 3,
   "metadata": {
    "collapsed": true
   },
   "outputs": [],
   "source": [
    "import tensorflow.contrib.slim as slim"
   ]
  },
  {
   "cell_type": "code",
   "execution_count": 4,
   "metadata": {
    "collapsed": true
   },
   "outputs": [],
   "source": [
    "X = tf.placeholder(\"float\", [None, 784])\n",
    "Y = tf.placeholder(\"float\", [None, 10])\n",
    "is_training = tf.placeholder(\"bool\")\n",
    "net = tf.reshape(X, [-1, 28, 28, 1])"
   ]
  },
  {
   "cell_type": "markdown",
   "metadata": {},
   "source": [
    "## `slim.conv2d`\n",
    "\n",
    "* `inputs`: 輸入tensor\n",
    "* `num_outputs`: 輸出的channel數量\n",
    "* `kernel_size`: kernel的大小\n",
    "* `stride=1`\n",
    "* `padding='SAME'`\n",
    "* `rate=1`: atrous convolution 的間隔\n",
    "* `activation_fn=nn.relu`\n",
    "* `weights_initializer=initializers.xavier_initializer()`\n",
    "* `biases_initializer=init_ops.zeros_initializer`"
   ]
  },
  {
   "cell_type": "code",
   "execution_count": 5,
   "metadata": {
    "collapsed": false
   },
   "outputs": [],
   "source": [
    "with tf.device('/gpu:0'):\n",
    "    with slim.arg_scope([slim.conv2d], weights_regularizer=slim.l2_regularizer(0.0005)):\n",
    "        net = slim.conv2d(net, 32, [3, 3], scope='conv1_1')  # 28x28x32\n",
    "        net = slim.max_pool2d(net, [2, 2], scope='pool1')    # 14x14x32\n",
    "        net = slim.conv2d(net, 64, [3, 3], scope='conv2_1')  # 14x14x64\n",
    "        net = slim.max_pool2d(net, [2, 2], scope='pool1')    # 7x7x64\n",
    "        net = slim.conv2d(net, 128, [3, 3], scope='conv3_1') # 7x7x128\n",
    "        net = slim.max_pool2d(net, [2, 2], scope='pool1')    # 3x3x128\n",
    "        net = slim.conv2d(net, 2048, [3, 3], padding='VALID', scope='fc1')    # 1x1x2048\n",
    "        net = slim.dropout(net, 0.5, is_training=is_training, scope='dp1')\n",
    "        net = slim.conv2d(net, 625, [1, 1], scope='fc2')   # 1x1x625\n",
    "        net = slim.dropout(net, 0.8, is_training=is_training, scope='dp2')\n",
    "        net = slim.conv2d(net, 10, [1, 1], activation_fn=None, scope='pre')   # 1x1x10\n",
    "        logits = tf.squeeze(net, [1, 2], name='logits')      # 10\n",
    "        reg_loss = tf.add_n(slim.losses.get_regularization_losses())\n",
    "        ce_loss = tf.reduce_mean(tf.nn.softmax_cross_entropy_with_logits(logits, Y))\n",
    "        cost = reg_loss + ce_loss\n",
    "        predict_op = tf.argmax(logits, 1)"
   ]
  },
  {
   "cell_type": "code",
   "execution_count": 7,
   "metadata": {
    "collapsed": false
   },
   "outputs": [
    {
     "name": "stdout",
     "output_type": "stream",
     "text": [
      "0 0.9698\n",
      "1 0.9837\n",
      "2 0.9873\n",
      "3 0.9872\n",
      "4 0.9878\n",
      "5 0.9887\n",
      "6 0.9885\n",
      "7 0.9901\n",
      "8 0.9893\n",
      "9 0.9903\n"
     ]
    },
    {
     "data": {
      "text/plain": [
       "[<matplotlib.lines.Line2D at 0x7f61a81c8c50>]"
      ]
     },
     "execution_count": 7,
     "metadata": {},
     "output_type": "execute_result"
    },
    {
     "data": {
      "image/png": "[encoded data removed]",
      "text/plain": [
       "<matplotlib.figure.Figure at 0x7f61b405e550>"
      ]
     },
     "metadata": {},
     "output_type": "display_data"
    }
   ],
   "source": [
    "train_op = tf.train.RMSPropOptimizer(0.0005, 0.9).minimize(cost)\n",
    "\n",
    "with tf.Session() as sess:\n",
    "    accu = []\n",
    "    tf.global_variables_initializer().run()\n",
    "    batch_size = 128\n",
    "\n",
    "    for i in range(10):\n",
    "        training_batch = zip(range(0, len(trX), batch_size),\n",
    "                             range(batch_size, len(trX)+1, batch_size))\n",
    "        for start, end in training_batch:\n",
    "            sess.run(train_op, feed_dict={X: trX[start:end], Y: trY[start:end], is_training: True})\n",
    "\n",
    "        y = sess.run(predict_op, feed_dict={X: teX, Y: teY, is_training: False})\n",
    "        accu.append(np.mean(np.argmax(teY, axis=1) == y))\n",
    "        print i, accu[-1]\n",
    "\n",
    "plt.plot(accu)"
   ]
  },
  {
   "cell_type": "code",
   "execution_count": null,
   "metadata": {
    "collapsed": true
   },
   "outputs": [],
   "source": []
  }
 ],
 "metadata": {
  "kernelspec": {
   "display_name": "Python 2",
   "language": "python",
   "name": "python2"
  },
  "language_info": {
   "codemirror_mode": {
    "name": "ipython",
    "version": 2
   },
   "file_extension": ".py",
   "mimetype": "text/x-python",
   "name": "python",
   "nbconvert_exporter": "python",
   "pygments_lexer": "ipython2",
   "version": "2.7.12"
  }
 },
 "nbformat": 4,
 "nbformat_minor": 1
}
