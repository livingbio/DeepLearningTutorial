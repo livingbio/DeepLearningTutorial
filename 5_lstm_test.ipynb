{
 "cells": [
  {
   "cell_type": "code",
   "execution_count": 1,
   "metadata": {
    "collapsed": true
   },
   "outputs": [],
   "source": [
    "import tensorflow as tf\n",
    "import numpy as np"
   ]
  },
  {
   "cell_type": "code",
   "execution_count": 2,
   "metadata": {
    "collapsed": true
   },
   "outputs": [],
   "source": [
    "def load_text_to_id(filename):\n",
    "    with open(filename) as f:\n",
    "        words = f.read().decode('utf8').replace(\"\\n\", \" <eos> \").split()\n",
    "    vocab = sorted(list(set(words)))\n",
    "    vocab = dict(zip(vocab, range(len(vocab))))\n",
    "    unk = len(vocab)\n",
    "    return [vocab[w] if w in vocab else unk for w in words], vocab\n",
    "\n",
    "word_ids, vocab = load_text_to_id('raw_sentences.txt')"
   ]
  },
  {
   "cell_type": "code",
   "execution_count": 3,
   "metadata": {
    "collapsed": false
   },
   "outputs": [],
   "source": [
    "inv_vocab = np.array([x[1] for x in sorted(zip(vocab.values(), vocab.keys()))])"
   ]
  },
  {
   "cell_type": "code",
   "execution_count": 4,
   "metadata": {
    "collapsed": true
   },
   "outputs": [],
   "source": [
    "def get_model(n_steps, dim_input, dim_hidden, batch_size, vocab_size):\n",
    "    input_data = tf.placeholder('int32', [batch_size, n_steps])\n",
    "    targets = tf.placeholder('int32', [batch_size, n_steps])\n",
    "\n",
    "    with tf.device('/gpu:0'):\n",
    "        lstm_cell = tf.nn.rnn_cell.BasicLSTMCell(dim_hidden)\n",
    "        # lstm_cell = tf.nn.rnn_cell.DropoutWrapper(lstm_cell, output_keep_prob=0.5)\n",
    "        # lstm_cell = tf.nn.rnn_cell.MultiRNNCell([lstm_cell] * 3)\n",
    "        initial_state = lstm_cell.zero_state(batch_size, 'float32')\n",
    "\n",
    "    with tf.device(\"/cpu:0\"):\n",
    "        embedding = tf.Variable(tf.random_normal([vocab_size, dim_hidden]))\n",
    "    inputs = tf.nn.embedding_lookup(embedding, input_data)\n",
    "    # inputs = tf.nn.dropout(inputs, 0.5)\n",
    "    inputs = [tf.squeeze(input_, [1]) for input_ in tf.split(1, n_steps, inputs)]\n",
    "\n",
    "    outputs, state = tf.nn.rnn(lstm_cell, inputs, initial_state=initial_state)\n",
    "    output = tf.reshape(tf.concat(1, outputs), [-1, dim_hidden])\n",
    "    with tf.device('/gpu:0'):\n",
    "        Wy = tf.Variable(tf.random_normal([dim_hidden, vocab_size]))\n",
    "        by = tf.Variable(tf.random_normal([vocab_size]))\n",
    "        logits = tf.matmul(output, Wy) + by\n",
    "        loss = tf.nn.seq2seq.sequence_loss_by_example(\n",
    "            [logits], [tf.reshape(targets, [-1])],\n",
    "            [tf.ones([batch_size * n_steps], dtype='float32')])\n",
    "        cost = tf.reduce_sum(loss) / batch_size\n",
    "\n",
    "    final_state = state\n",
    "    train_op = tf.train.RMSPropOptimizer(0.001, 0.9).minimize(cost)\n",
    "    return {'train': train_op, 'final_state': final_state, 'cost': cost,\n",
    "            'logits': logits, 'input': input_data, 'target': targets,\n",
    "            'init_state': initial_state, 'cell': lstm_cell}"
   ]
  },
  {
   "cell_type": "code",
   "execution_count": 5,
   "metadata": {
    "collapsed": false
   },
   "outputs": [],
   "source": [
    "model = get_model(n_steps=1, dim_input=20, dim_hidden=30, batch_size=1, vocab_size=len(vocab)+1)"
   ]
  },
  {
   "cell_type": "code",
   "execution_count": 10,
   "metadata": {
    "collapsed": true
   },
   "outputs": [],
   "source": [
    "prime = 'I like to'"
   ]
  },
  {
   "cell_type": "code",
   "execution_count": 11,
   "metadata": {
    "collapsed": false,
    "scrolled": false
   },
   "outputs": [
    {
     "name": "stdout",
     "output_type": "stream",
     "text": [
      "I like to do it . <eos> I do nt know what to do . <eos> I do nt know what to do . <eos> I do nt know what to do . <eos>\n"
     ]
    }
   ],
   "source": [
    "sent = prime.split()\n",
    "with tf.Session() as sess:\n",
    "    tf.global_variables_initializer().run()\n",
    "    saver = tf.train.Saver(tf.global_variables())\n",
    "    saver.restore(sess, './')\n",
    "    \n",
    "    state = sess.run(model['cell'].zero_state(1, tf.float32))\n",
    "    init_state = model['init_state']\n",
    "    final_state = model['final_state']\n",
    "    logits = model['logits']\n",
    "    X = model['input']\n",
    "    for w in prime.split():\n",
    "        x = np.array([[vocab[w]]])\n",
    "        log, state = sess.run([logits, final_state], feed_dict={X: x, init_state: state})\n",
    "    word = inv_vocab[np.argmax(log)]\n",
    "    sent.append(word)\n",
    "    \n",
    "    for _ in range(30):\n",
    "        x = np.array([[vocab[word]]])\n",
    "        log, state = sess.run([logits, final_state], feed_dict={X: x, init_state: state})\n",
    "        word = inv_vocab[np.argmax(log)]\n",
    "        sent.append(word)\n",
    "    print ' '.join(sent)"
   ]
  },
  {
   "cell_type": "code",
   "execution_count": null,
   "metadata": {
    "collapsed": true
   },
   "outputs": [],
   "source": []
  }
 ],
 "metadata": {
  "kernelspec": {
   "display_name": "Python 2",
   "language": "python",
   "name": "python2"
  },
  "language_info": {
   "codemirror_mode": {
    "name": "ipython",
    "version": 2
   },
   "file_extension": ".py",
   "mimetype": "text/x-python",
   "name": "python",
   "nbconvert_exporter": "python",
   "pygments_lexer": "ipython2",
   "version": "2.7.12"
  }
 },
 "nbformat": 4,
 "nbformat_minor": 2
}
