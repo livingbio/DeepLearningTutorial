{
 "cells": [
  {
   "cell_type": "code",
   "execution_count": 1,
   "metadata": {
    "collapsed": true
   },
   "outputs": [],
   "source": [
    "import tensorflow as tf\n",
    "import numpy as np"
   ]
  },
  {
   "cell_type": "code",
   "execution_count": 2,
   "metadata": {
    "collapsed": false
   },
   "outputs": [],
   "source": [
    "def load_text_to_id(filename):\n",
    "    with open(filename) as f:\n",
    "        words = f.read().decode('utf8').replace(\"\\n\", \" <eos> \").split()\n",
    "    vocab = sorted(list(set(words)))\n",
    "    vocab = dict(zip(vocab, range(len(vocab))))\n",
    "    unk = len(vocab)\n",
    "    return [vocab[w] if w in vocab else unk for w in words], vocab"
   ]
  },
  {
   "cell_type": "code",
   "execution_count": 3,
   "metadata": {
    "collapsed": false
   },
   "outputs": [],
   "source": [
    "word_ids, vocab = load_text_to_id('raw_sentences.txt')"
   ]
  },
  {
   "cell_type": "code",
   "execution_count": 4,
   "metadata": {
    "collapsed": true
   },
   "outputs": [],
   "source": [
    "def get_model(n_steps, dim_input, dim_hidden, batch_size, vocab_size):\n",
    "    input_data = tf.placeholder('int32', [batch_size, n_steps])\n",
    "    targets = tf.placeholder('int32', [batch_size, n_steps])\n",
    "\n",
    "    with tf.device('/gpu:0'):\n",
    "        lstm_cell = tf.nn.rnn_cell.BasicLSTMCell(dim_hidden)\n",
    "        # lstm_cell = tf.nn.rnn_cell.DropoutWrapper(lstm_cell, output_keep_prob=0.5)\n",
    "        # lstm_cell = tf.nn.rnn_cell.MultiRNNCell([lstm_cell] * 3)\n",
    "        initial_state = lstm_cell.zero_state(batch_size, 'float32')\n",
    "\n",
    "    with tf.device(\"/cpu:0\"):\n",
    "        embedding = tf.Variable(tf.random_normal([vocab_size, dim_hidden]))\n",
    "    inputs = tf.nn.embedding_lookup(embedding, input_data)\n",
    "    # inputs = tf.nn.dropout(inputs, 0.5)\n",
    "    inputs = [tf.squeeze(input_, [1]) for input_ in tf.split(1, n_steps, inputs)]\n",
    "\n",
    "    outputs, state = tf.nn.rnn(lstm_cell, inputs, initial_state=initial_state)\n",
    "    output = tf.reshape(tf.concat(1, outputs), [-1, dim_hidden])\n",
    "    with tf.device('/gpu:0'):\n",
    "        Wy = tf.Variable(tf.random_normal([dim_hidden, vocab_size]))\n",
    "        by = tf.Variable(tf.random_normal([vocab_size]))\n",
    "        logits = tf.matmul(output, Wy) + by\n",
    "        loss = tf.nn.seq2seq.sequence_loss_by_example(\n",
    "            [logits], [tf.reshape(targets, [-1])],\n",
    "            [tf.ones([batch_size * n_steps], dtype='float32')])\n",
    "        cost = tf.reduce_sum(loss) / batch_size\n",
    "\n",
    "    final_state = state\n",
    "    train_op = tf.train.RMSPropOptimizer(0.001, 0.9).minimize(cost)\n",
    "    return {'train': train_op, 'final_state': final_state, 'cost': cost,\n",
    "            'logits': logits, 'input': input_data, 'target': targets}"
   ]
  },
  {
   "cell_type": "code",
   "execution_count": 5,
   "metadata": {
    "collapsed": true
   },
   "outputs": [],
   "source": [
    "def batch(word_ids, batch_size, n_steps):\n",
    "    word_ids = np.array(word_ids)\n",
    "    batch_count = len(word_ids) // batch_size\n",
    "    data = word_ids[:batch_count*batch_size].reshape([batch_size, batch_count])\n",
    "    for end in range(n_steps, batch_count, n_steps):\n",
    "        start = end - n_steps\n",
    "        x = data[:, start:end]\n",
    "        y = data[:, (start+1):(end+1)]\n",
    "        yield x, y"
   ]
  },
  {
   "cell_type": "code",
   "execution_count": 6,
   "metadata": {
    "collapsed": true
   },
   "outputs": [],
   "source": [
    "model = get_model(n_steps=30, dim_input=20, dim_hidden=30, batch_size=128, vocab_size=len(vocab)+1)"
   ]
  },
  {
   "cell_type": "code",
   "execution_count": 7,
   "metadata": {
    "collapsed": false
   },
   "outputs": [
    {
     "name": "stdout",
     "output_type": "stream",
     "text": [
      "0 120.467\n",
      "1 98.9053\n",
      "2 91.9758\n",
      "3 88.4087\n",
      "4 86.2257\n",
      "5 84.6999\n",
      "6 83.5605\n",
      "7 82.6666\n",
      "8 81.9324\n",
      "9 81.3187\n",
      "10 80.796\n",
      "11 80.3458\n",
      "12 79.9511\n",
      "13 79.6024\n",
      "14 79.2947\n",
      "15 79.0207\n",
      "16 78.7766\n",
      "17 78.5595\n",
      "18 78.3646\n",
      "19 78.1871\n"
     ]
    }
   ],
   "source": [
    "with tf.Session() as sess:\n",
    "    tf.global_variables_initializer().run()\n",
    "    X = model['input']\n",
    "    Y = model['target']\n",
    "    for epoch in range(20):\n",
    "        for x, y in batch(word_ids, batch_size=128, n_steps=30):\n",
    "            sess.run(model['train'], feed_dict={X: x, Y: y})\n",
    "        c = sess.run(model['cost'], feed_dict={X: x, Y: y})\n",
    "        print epoch, c\n",
    "    saver = tf.train.Saver(tf.global_variables())\n",
    "    saver.save(sess, './')"
   ]
  },
  {
   "cell_type": "code",
   "execution_count": null,
   "metadata": {
    "collapsed": true
   },
   "outputs": [],
   "source": []
  }
 ],
 "metadata": {
  "kernelspec": {
   "display_name": "Python 2",
   "language": "python",
   "name": "python2"
  },
  "language_info": {
   "codemirror_mode": {
    "name": "ipython",
    "version": 2
   },
   "file_extension": ".py",
   "mimetype": "text/x-python",
   "name": "python",
   "nbconvert_exporter": "python",
   "pygments_lexer": "ipython2",
   "version": "2.7.12"
  }
 },
 "nbformat": 4,
 "nbformat_minor": 2
}
